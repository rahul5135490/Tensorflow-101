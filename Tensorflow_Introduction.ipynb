{
 "cells": [
  {
   "cell_type": "code",
   "execution_count": 2,
   "metadata": {
    "colab": {
     "base_uri": "https://localhost:8080/",
     "height": 1000
    },
    "colab_type": "code",
    "executionInfo": {
     "elapsed": 4217,
     "status": "ok",
     "timestamp": 1578641876419,
     "user": {
      "displayName": "Mukesh Rao",
      "photoUrl": "",
      "userId": "17153267786626763657"
     },
     "user_tz": -330
    },
    "id": "EnR-o35AXgeQ",
    "outputId": "b3b7cba6-f101-4ce7-b668-d5e09fcca6fe"
   },
   "outputs": [
    {
     "name": "stdout",
     "output_type": "stream",
     "text": [
      "Package                       Version\n",
      "----------------------------- --------------------\n",
      "absl-py                       1.4.0\n",
      "aiohttp                       3.8.3\n",
      "aiosignal                     1.2.0\n",
      "alabaster                     0.7.12\n",
      "amqp                          5.1.1\n",
      "anaconda-client               1.11.0\n",
      "anaconda-navigator            2.3.2\n",
      "anaconda-project              0.11.1\n",
      "anyio                         3.5.0\n",
      "appdirs                       1.4.4\n",
      "argon2-cffi                   21.3.0\n",
      "argon2-cffi-bindings          21.2.0\n",
      "arrow                         1.2.2\n",
      "arviz                         0.11.2\n",
      "asgiref                       3.6.0\n",
      "astor                         0.8.1\n",
      "astroid                       2.11.7\n",
      "astropy                       5.1\n",
      "astunparse                    1.6.3\n",
      "async-timeout                 4.0.2\n",
      "atomicwrites                  1.4.0\n",
      "attrs                         21.4.0\n",
      "auto-labeling-pipeline        0.1.21\n",
      "Automat                       20.2.0\n",
      "autopep8                      1.6.0\n",
      "Babel                         2.9.1\n",
      "backcall                      0.2.0\n",
      "backports.functools-lru-cache 1.6.4\n",
      "backports.tempfile            1.0\n",
      "backports.weakref             1.0.post1\n",
      "bcrypt                        3.2.0\n",
      "beautifulsoup4                4.11.1\n",
      "billiard                      3.6.4.0\n",
      "binaryornot                   0.4.4\n",
      "bitarray                      2.5.1\n",
      "bkcharts                      0.2\n",
      "black                         22.6.0\n",
      "bleach                        4.1.0\n",
      "blinker                       1.4\n",
      "blis                          0.7.9\n",
      "bokeh                         2.4.3\n",
      "boto3                         1.24.28\n",
      "botocore                      1.27.28\n",
      "Bottleneck                    1.3.5\n",
      "brotlipy                      0.7.0\n",
      "cachetools                    5.2.1\n",
      "catalogue                     2.0.8\n",
      "celery                        5.2.7\n",
      "certifi                       2022.12.7\n",
      "cffi                          1.15.1\n",
      "cftime                        1.5.1.1\n",
      "chardet                       4.0.0\n",
      "charset-normalizer            2.0.4\n",
      "chatterbot-corpus             1.2.0\n",
      "click                         8.0.4\n",
      "click-didyoumean              0.3.0\n",
      "click-plugins                 1.1.1\n",
      "click-repl                    0.2.0\n",
      "cloudpickle                   2.0.0\n",
      "clyent                        1.2.2\n",
      "cmdstanpy                     0.9.5\n",
      "colorama                      0.4.6\n",
      "colorcet                      3.0.0\n",
      "comtypes                      1.1.10\n",
      "conda                         23.1.0\n",
      "conda-build                   3.22.0\n",
      "conda-content-trust           0.1.3\n",
      "conda-pack                    0.6.0\n",
      "conda-package-handling        1.9.0\n",
      "conda-repo-cli                1.0.20\n",
      "conda-token                   0.4.0\n",
      "conda-verify                  3.4.2\n",
      "confection                    0.0.4\n",
      "constantly                    15.1.0\n",
      "convertdate                   2.4.0\n",
      "cookiecutter                  1.7.3\n",
      "coreapi                       2.3.3\n",
      "coreschema                    0.0.4\n",
      "cryptography                  37.0.1\n",
      "cssselect                     1.1.0\n",
      "cycler                        0.11.0\n",
      "cymem                         2.0.7\n",
      "Cython                        0.29.32\n",
      "cytoolz                       0.11.0\n",
      "daal4py                       2021.6.0\n",
      "dask                          2022.7.0\n",
      "datashader                    0.14.1\n",
      "datashape                     0.5.4\n",
      "debugpy                       1.5.1\n",
      "decorator                     5.1.1\n",
      "defusedxml                    0.7.1\n",
      "diff-match-patch              20200713\n",
      "dill                          0.3.4\n",
      "distlib                       0.3.6\n",
      "distributed                   2022.7.0\n",
      "dj-database-url               0.5.0\n",
      "dj-rest-auth                  2.2.8\n",
      "Django                        4.1.6\n",
      "django-allauth                0.50.0\n",
      "django-celery-results         2.4.0\n",
      "django-cleanup                6.0.0\n",
      "django-cors-headers           3.14.0\n",
      "django-drf-filepond           0.4.1\n",
      "django-filter                 21.1\n",
      "django-health-check           3.17.0\n",
      "django-polymorphic            3.1.0\n",
      "django-rest-polymorphic       0.1.10\n",
      "django-storages               1.13.2\n",
      "djangorestframework           3.14.0\n",
      "djangorestframework-xml       2.0.0\n",
      "dm-tree                       0.1.8\n",
      "doccano                       1.8.3\n",
      "docutils                      0.18.1\n",
      "drf-yasg                      1.21.5\n",
      "en-core-web-sm                3.5.0\n",
      "entrypoints                   0.4\n",
      "environs                      9.5.0\n",
      "ephem                         4.1.4\n",
      "et-xmlfile                    1.1.0\n",
      "fastjsonschema                2.16.2\n",
      "fb                            0.4.0\n",
      "filelock                      3.6.0\n",
      "filetype                      1.2.0\n",
      "flake8                        4.0.1\n",
      "Flask                         1.1.2\n",
      "flatbuffers                   23.1.4\n",
      "flower                        1.2.0\n",
      "fonttools                     4.25.0\n",
      "frozenlist                    1.3.3\n",
      "fsspec                        2022.7.1\n",
      "furl                          2.1.3\n",
      "future                        0.18.2\n",
      "gast                          0.5.3\n",
      "gensim                        4.1.2\n",
      "glob2                         0.7\n",
      "google-api-core               2.11.0\n",
      "google-auth                   2.16.0\n",
      "google-auth-oauthlib          0.4.6\n",
      "google-cloud-core             2.3.2\n",
      "google-cloud-storage          2.9.0\n",
      "google-crc32c                 1.5.0\n",
      "google-pasta                  0.2.0\n",
      "google-resumable-media        2.5.0\n",
      "googleapis-common-protos      1.59.0\n",
      "greenlet                      1.1.1\n",
      "grpcio                        1.51.1\n",
      "gunicorn                      20.1.0\n",
      "h5py                          3.7.0\n",
      "HeapDict                      1.0.1\n",
      "hijri-converter               2.2.4\n",
      "holidays                      0.18\n",
      "holoviews                     1.15.0\n",
      "humanize                      4.6.0\n",
      "hvplot                        0.8.0\n",
      "hyperlink                     21.0.0\n",
      "idna                          3.3\n",
      "imagecodecs                   2021.8.26\n",
      "imageio                       2.19.3\n",
      "imagesize                     1.4.1\n",
      "imbalanced-learn              0.10.1\n",
      "imblearn                      0.0\n",
      "importlib-metadata            4.11.3\n",
      "incremental                   21.3.0\n",
      "inflection                    0.5.1\n",
      "iniconfig                     1.1.1\n",
      "intake                        0.6.5\n",
      "intervaltree                  3.1.0\n",
      "ipykernel                     6.15.2\n",
      "ipython                       7.31.1\n",
      "ipython-genutils              0.2.0\n",
      "ipywidgets                    7.6.5\n",
      "isort                         5.9.3\n",
      "itemadapter                   0.3.0\n",
      "itemloaders                   1.0.4\n",
      "itsdangerous                  2.0.1\n",
      "itypes                        1.2.0\n",
      "jdcal                         1.4.1\n",
      "jedi                          0.18.1\n",
      "jellyfish                     0.9.0\n",
      "Jinja2                        2.11.3\n",
      "jinja2-time                   0.2.0\n",
      "jmespath                      0.10.0\n",
      "joblib                        1.2.0\n",
      "json5                         0.9.6\n",
      "jsonschema                    4.16.0\n",
      "jupyter                       1.0.0\n",
      "jupyter_client                7.3.4\n",
      "jupyter-console               6.4.3\n",
      "jupyter_core                  4.11.1\n",
      "jupyter-server                1.18.1\n",
      "jupyterlab                    3.4.4\n",
      "jupyterlab-pygments           0.1.2\n",
      "jupyterlab-server             2.10.3\n",
      "jupyterlab-widgets            1.0.0\n",
      "keras                         2.11.0\n",
      "Keras-Preprocessing           1.1.2\n",
      "keyring                       23.4.0\n",
      "kiwisolver                    1.4.2\n",
      "kombu                         5.2.4\n",
      "korean-lunar-calendar         0.3.1\n",
      "langcodes                     3.3.0\n",
      "lazy-object-proxy             1.6.0\n",
      "libarchive-c                  2.9\n",
      "libclang                      15.0.6.1\n",
      "llvmlite                      0.38.0\n",
      "lml                           0.1.0\n",
      "locket                        1.0.0\n",
      "LunarCalendar                 0.0.9\n",
      "lxml                          4.9.1\n",
      "lz4                           3.1.3\n",
      "Markdown                      3.3.4\n",
      "MarkupSafe                    2.0.1\n",
      "marshmallow                   3.19.0\n",
      "matplotlib                    3.5.2\n",
      "matplotlib-inline             0.1.6\n",
      "mccabe                        0.6.1\n",
      "menuinst                      1.4.19\n",
      "mistune                       0.8.4\n",
      "mkl-fft                       1.3.1\n",
      "mkl-random                    1.2.2\n",
      "mkl-service                   2.4.0\n",
      "mock                          4.0.3\n",
      "mpmath                        1.2.1\n",
      "msgpack                       1.0.3\n",
      "multidict                     6.0.2\n",
      "multipledispatch              0.6.0\n",
      "munkres                       1.1.4\n",
      "murmurhash                    1.0.9\n",
      "mypy-extensions               0.4.3\n",
      "mysql-connector-python        8.0.32\n",
      "navigator-updater             0.3.0\n",
      "nbclassic                     0.3.5\n",
      "nbclient                      0.5.13\n",
      "nbconvert                     6.4.4\n",
      "nbformat                      5.5.0\n",
      "nest-asyncio                  1.5.5\n",
      "netCDF4                       1.6.2\n",
      "networkx                      2.8.4\n",
      "nltk                          3.7\n",
      "nose                          1.3.7\n",
      "notebook                      6.4.12\n",
      "numba                         0.55.1\n",
      "numexpr                       2.8.3\n",
      "numpy                         1.21.5\n",
      "numpydoc                      1.4.0\n",
      "oauthlib                      3.2.2\n",
      "olefile                       0.46\n",
      "opencv-python                 4.7.0.72\n",
      "openpyxl                      3.0.10\n",
      "opt-einsum                    3.3.0\n",
      "orderedmultidict              1.0.1\n",
      "packaging                     21.3\n",
      "pandas                        1.4.4\n",
      "pandocfilters                 1.5.0\n",
      "panel                         0.13.1\n",
      "param                         1.12.0\n",
      "paramiko                      2.8.1\n",
      "parsel                        1.6.0\n",
      "parso                         0.8.3\n",
      "partd                         1.2.0\n",
      "pathlib                       1.0.1\n",
      "pathspec                      0.9.0\n",
      "pathy                         0.10.1\n",
      "patsy                         0.5.2\n",
      "pep8                          1.7.1\n",
      "pexpect                       4.8.0\n",
      "pickleshare                   0.7.5\n",
      "Pillow                        9.2.0\n",
      "pip                           22.2.2\n",
      "pkginfo                       1.8.2\n",
      "platformdirs                  2.5.2\n",
      "plotly                        5.9.0\n",
      "pluggy                        1.0.0\n",
      "poyo                          0.5.0\n",
      "preshed                       3.0.8\n",
      "prometheus-client             0.14.1\n",
      "prompt-toolkit                3.0.20\n",
      "prophet                       1.1.1\n",
      "Protego                       0.1.16\n",
      "protobuf                      4.23.2\n",
      "psutil                        5.9.0\n",
      "psycopg2-binary               2.9.5\n",
      "ptyprocess                    0.7.0\n",
      "py                            1.11.0\n",
      "pyasn1                        0.4.8\n",
      "pyasn1-modules                0.2.8\n",
      "pycodestyle                   2.8.0\n",
      "pycosat                       0.6.3\n",
      "pycparser                     2.21\n",
      "pyct                          0.4.8\n",
      "pycurl                        7.45.1\n",
      "pydantic                      1.10.4\n",
      "PyDispatcher                  2.0.5\n",
      "pydocstyle                    6.1.1\n",
      "pyerfa                        2.0.0\n",
      "pyexcel                       0.7.0\n",
      "pyexcel-io                    0.6.6\n",
      "pyexcel-xlsx                  0.6.0\n",
      "pyflakes                      2.4.0\n",
      "Pygments                      2.11.2\n",
      "PyHamcrest                    2.0.2\n",
      "PyJWT                         2.4.0\n",
      "pylint                        2.14.5\n",
      "pyls-spyder                   0.4.0\n",
      "PyMeeus                       0.5.12\n",
      "PyNaCl                        1.5.0\n",
      "pyodbc                        4.0.34\n",
      "pyOpenSSL                     22.0.0\n",
      "pyparsing                     3.0.9\n",
      "pyrsistent                    0.18.0\n",
      "PySocks                       1.7.1\n",
      "pystan                        2.19.1.1\n",
      "pytest                        7.1.2\n",
      "python-dateutil               2.8.2\n",
      "python-dotenv                 1.0.0\n",
      "python-lsp-black              1.0.0\n",
      "python-lsp-jsonrpc            1.0.0\n",
      "python-lsp-server             1.3.3\n",
      "python-slugify                5.0.2\n",
      "python-snappy                 0.6.0\n",
      "python3-openid                3.2.0\n",
      "pytz                          2022.1\n",
      "pyviz-comms                   2.0.2\n",
      "PyWavelets                    1.3.0\n",
      "pywin32                       302\n",
      "pywin32-ctypes                0.2.0\n",
      "pywinpty                      2.0.2\n",
      "PyYAML                        3.13\n",
      "pyzmq                         23.2.0\n",
      "QDarkStyle                    3.0.2\n",
      "qstylizer                     0.1.10\n",
      "QtAwesome                     1.0.3\n",
      "qtconsole                     5.2.2\n",
      "QtPy                          2.2.0\n",
      "queuelib                      1.5.0\n",
      "regex                         2022.7.9\n",
      "requests                      2.28.1\n",
      "requests-file                 1.5.1\n",
      "requests-oauthlib             1.3.1\n",
      "rope                          0.22.0\n",
      "rsa                           4.9\n",
      "Rtree                         0.9.7\n",
      "ruamel.yaml                   0.17.21\n",
      "ruamel.yaml.clib              0.2.6\n",
      "ruamel-yaml-conda             0.15.100\n",
      "s3transfer                    0.6.0\n",
      "scikit-image                  0.19.2\n",
      "scikit-learn                  1.0.2\n",
      "scikit-learn-intelex          2021.20221004.171935\n",
      "scipy                         1.7.3\n",
      "Scrapy                        2.6.2\n",
      "seaborn                       0.11.2\n",
      "Send2Trash                    1.8.0\n",
      "seqeval                       1.2.2\n",
      "service-identity              18.1.0\n",
      "setuptools                    63.4.1\n",
      "setuptools-git                1.2\n",
      "shortuuid                     1.0.11\n",
      "sip                           4.19.13\n",
      "six                           1.16.0\n",
      "smart-open                    5.2.1\n",
      "sniffio                       1.2.0\n",
      "snowballstemmer               2.2.0\n",
      "sortedcollections             2.1.0\n",
      "sortedcontainers              2.4.0\n",
      "soupsieve                     2.3.1\n",
      "spacy                         3.5.0\n",
      "spacy-legacy                  3.0.12\n",
      "spacy-loggers                 1.0.4\n",
      "Sphinx                        5.0.2\n",
      "sphinxcontrib-applehelp       1.0.2\n",
      "sphinxcontrib-devhelp         1.0.2\n",
      "sphinxcontrib-htmlhelp        2.0.0\n",
      "sphinxcontrib-jsmath          1.0.1\n",
      "sphinxcontrib-qthelp          1.0.3\n",
      "sphinxcontrib-serializinghtml 1.1.5\n",
      "spyder                        5.2.2\n",
      "spyder-kernels                2.2.1\n",
      "SQLAlchemy                    1.4.39\n",
      "sqlparse                      0.4.3\n",
      "srsly                         2.4.5\n",
      "statsmodels                   0.13.2\n",
      "sympy                         1.10.1\n",
      "tables                        3.6.1\n",
      "tabulate                      0.8.10\n",
      "TBB                           0.2\n",
      "tblib                         1.7.0\n",
      "tenacity                      8.0.1\n",
      "tensorboard                   2.11.0\n",
      "tensorboard-data-server       0.6.1\n",
      "tensorboard-plugin-wit        1.8.1\n",
      "tensorflow                    2.11.0\n",
      "tensorflow-docs               2023.5.26.9808\n",
      "tensorflow-estimator          2.11.0\n",
      "tensorflow-intel              2.11.0\n",
      "tensorflow-io-gcs-filesystem  0.29.0\n",
      "termcolor                     2.2.0\n",
      "terminado                     0.13.1\n",
      "testpath                      0.6.0\n",
      "text-unidecode                1.3\n",
      "textblob                      0.17.1\n",
      "textdistance                  4.2.1\n",
      "texttable                     1.6.7\n",
      "Theano                        1.0.5\n",
      "thinc                         8.1.7\n",
      "threadpoolctl                 2.2.0\n",
      "three-merge                   0.1.1\n",
      "tifffile                      2021.7.2\n",
      "tinycss                       0.4\n",
      "tldextract                    3.2.0\n",
      "toml                          0.10.2\n",
      "tomli                         2.0.1\n",
      "tomlkit                       0.11.1\n",
      "toolz                         0.11.2\n",
      "torch                         2.0.1+cu117\n",
      "torchaudio                    2.0.2+cu117\n",
      "torchvision                   0.15.2+cu117\n",
      "tornado                       6.1\n",
      "tqdm                          4.64.1\n",
      "traitlets                     5.1.1\n",
      "tweepy                        4.13.0\n",
      "Twisted                       22.2.0\n",
      "twisted-iocpsupport           1.0.2\n",
      "typer                         0.7.0\n",
      "typing_extensions             4.3.0\n",
      "tzdata                        2022.7\n",
      "ujson                         5.4.0\n",
      "Unidecode                     1.2.0\n",
      "uritemplate                   4.1.1\n",
      "urllib3                       1.26.11\n",
      "vine                          5.0.0\n",
      "virtualenv                    20.17.1\n",
      "w3lib                         1.21.0\n",
      "waitress                      2.1.2\n",
      "wasabi                        1.1.1\n",
      "watchdog                      2.1.6\n",
      "wcwidth                       0.2.5\n",
      "webencodings                  0.5.1\n",
      "websocket-client              0.58.0\n",
      "Werkzeug                      2.0.3\n",
      "wget                          3.2\n",
      "wheel                         0.37.1\n",
      "whitenoise                    6.4.0\n",
      "widgetsnbextension            3.5.2\n",
      "win-inet-pton                 1.1.0\n",
      "win-unicode-console           0.5\n",
      "wincertstore                  0.2\n",
      "wrapt                         1.14.1\n",
      "xarray                        0.20.1\n",
      "xlrd                          2.0.1\n",
      "XlsxWriter                    3.0.3\n",
      "xlwings                       0.27.15\n",
      "xlwt                          1.3.0\n",
      "yapf                          0.31.0\n",
      "yarl                          1.8.1\n",
      "zict                          2.1.0\n",
      "zipp                          3.8.0\n",
      "zope.interface                5.4.0\n"
     ]
    }
   ],
   "source": [
    "!pip list"
   ]
  },
  {
   "cell_type": "code",
   "execution_count": 3,
   "metadata": {
    "colab": {},
    "colab_type": "code",
    "id": "eplnblv_Xr1S"
   },
   "outputs": [],
   "source": [
    "#!pip install -U tensorflow==2.0"
   ]
  },
  {
   "cell_type": "code",
   "execution_count": 4,
   "metadata": {
    "colab": {},
    "colab_type": "code",
    "id": "Dg17uwtYXcie"
   },
   "outputs": [],
   "source": [
    "import tensorflow as tf    # importing tensorflow libraries"
   ]
  },
  {
   "cell_type": "code",
   "execution_count": 5,
   "metadata": {
    "colab": {
     "base_uri": "https://localhost:8080/",
     "height": 34
    },
    "colab_type": "code",
    "executionInfo": {
     "elapsed": 1280,
     "status": "ok",
     "timestamp": 1578641925480,
     "user": {
      "displayName": "Mukesh Rao",
      "photoUrl": "",
      "userId": "17153267786626763657"
     },
     "user_tz": -330
    },
    "id": "ZsAY5JZ_Y-60",
    "outputId": "38462afb-0ee3-4354-f123-9d504a95a311"
   },
   "outputs": [
    {
     "data": {
      "text/plain": [
       "'2.9.1'"
      ]
     },
     "execution_count": 5,
     "metadata": {},
     "output_type": "execute_result"
    }
   ],
   "source": [
    "tf.__version__"
   ]
  },
  {
   "cell_type": "markdown",
   "metadata": {
    "colab_type": "text",
    "id": "tsq615dsXcjG"
   },
   "source": [
    "# Creating tensors through constants"
   ]
  },
  {
   "cell_type": "code",
   "execution_count": 6,
   "metadata": {
    "colab": {
     "base_uri": "https://localhost:8080/",
     "height": 50
    },
    "colab_type": "code",
    "executionInfo": {
     "elapsed": 1317,
     "status": "ok",
     "timestamp": 1578642036683,
     "user": {
      "displayName": "Mukesh Rao",
      "photoUrl": "",
      "userId": "17153267786626763657"
     },
     "user_tz": -330
    },
    "id": "q-0f-xmLXcjL",
    "outputId": "112a2e0e-33b0-4710-f3a7-e4edaa3e1acb"
   },
   "outputs": [
    {
     "name": "stdout",
     "output_type": "stream",
     "text": [
      "b'Hello Rahul Bhai!!'\n"
     ]
    }
   ],
   "source": [
    "hello = tf.constant(\"Hello Rahul Bhai!!\")  \n",
    "print(hello.numpy())                \n"
   ]
  },
  {
   "cell_type": "markdown",
   "metadata": {
    "colab_type": "text",
    "id": "inWfvdxHXcjm"
   },
   "source": [
    " # Creating tensors through operations"
   ]
  },
  {
   "cell_type": "code",
   "execution_count": 7,
   "metadata": {
    "colab": {
     "base_uri": "https://localhost:8080/",
     "height": 34
    },
    "colab_type": "code",
    "executionInfo": {
     "elapsed": 2481,
     "status": "ok",
     "timestamp": 1578643411341,
     "user": {
      "displayName": "Mukesh Rao",
      "photoUrl": "",
      "userId": "17153267786626763657"
     },
     "user_tz": -330
    },
    "id": "zkUIy-R8Xcja",
    "outputId": "220bd6c7-5e2a-4aa9-dd80-58b098c08603"
   },
   "outputs": [
    {
     "name": "stdout",
     "output_type": "stream",
     "text": [
      "Sum of node1 and node2 is: 234\n"
     ]
    }
   ],
   "source": [
    "# creating nodes in computation graph \n",
    "node1 = tf.constant(33, dtype=tf.int32)   # creates a data node \n",
    "node2 = tf.constant(201, dtype=tf.int32)   # creates a data node\n",
    "node3 = tf.add(node1, node2)             # creates a function node\n",
    "\n",
    "\n",
    "# evaluating node3 and printing the result \n",
    "print(\"Sum of node1 and node2 is:\",node3.numpy()) \n"
   ]
  },
  {
   "cell_type": "code",
   "execution_count": 8,
   "metadata": {
    "colab": {
     "base_uri": "https://localhost:8080/",
     "height": 84
    },
    "colab_type": "code",
    "executionInfo": {
     "elapsed": 2032,
     "status": "ok",
     "timestamp": 1578644235057,
     "user": {
      "displayName": "Mukesh Rao",
      "photoUrl": "",
      "userId": "17153267786626763657"
     },
     "user_tz": -330
    },
    "id": "GEoM8tVdfBnE",
    "outputId": "e3dd34cd-2f68-40d7-ac2e-0c2016bafa04"
   },
   "outputs": [
    {
     "name": "stdout",
     "output_type": "stream",
     "text": [
      "[[10 11 21  3]\n",
      " [55 26  7  8]]\n",
      "(2, 4)\n",
      "tf.Tensor(2, shape=(), dtype=int32)\n"
     ]
    }
   ],
   "source": [
    "A  = tf.Variable(initial_value = ([[10,11,21,3],[55,26,7,8]]), shape=(2,4) , dtype = 'int32', name = 'A' )\n",
    "print(A.numpy())\n",
    "print(A.shape)\n",
    "print(tf.rank(A))"
   ]
  },
  {
   "cell_type": "code",
   "execution_count": 9,
   "metadata": {
    "colab": {
     "base_uri": "https://localhost:8080/",
     "height": 50
    },
    "colab_type": "code",
    "executionInfo": {
     "elapsed": 1315,
     "status": "ok",
     "timestamp": 1578644387350,
     "user": {
      "displayName": "Mukesh Rao",
      "photoUrl": "",
      "userId": "17153267786626763657"
     },
     "user_tz": -330
    },
    "id": "iZnkwnUsiGsX",
    "outputId": "6300cc3a-084d-42fc-883d-04c448353c33"
   },
   "outputs": [
    {
     "name": "stdout",
     "output_type": "stream",
     "text": [
      "(4, 1)\n",
      "tf.Tensor(2, shape=(), dtype=int32)\n"
     ]
    }
   ],
   "source": [
    "b = tf.Variable([[11],[2],[13],[4]])\n",
    "print(b.shape)\n",
    "print(tf.rank(b))"
   ]
  },
  {
   "cell_type": "code",
   "execution_count": 10,
   "metadata": {
    "colab": {
     "base_uri": "https://localhost:8080/",
     "height": 101
    },
    "colab_type": "code",
    "executionInfo": {
     "elapsed": 1373,
     "status": "ok",
     "timestamp": 1578644564298,
     "user": {
      "displayName": "Mukesh Rao",
      "photoUrl": "",
      "userId": "17153267786626763657"
     },
     "user_tz": -330
    },
    "id": "gUHSxdPtinH_",
    "outputId": "3df2cafd-b14e-45ce-d123-137c1a669637"
   },
   "outputs": [
    {
     "name": "stdout",
     "output_type": "stream",
     "text": [
      "(2, 2)\n",
      "tf.Tensor(2, shape=(), dtype=int32)\n",
      "<tf.Variable 'Variable:0' shape=(2, 2) dtype=int32, numpy=\n",
      "array([[13, 32],\n",
      "       [36, 43]])>\n"
     ]
    }
   ],
   "source": [
    "C = tf.Variable([[13,32],[36,43]])\n",
    "print(C.shape)\n",
    "print(tf.rank(C))\n",
    "print(C)"
   ]
  },
  {
   "cell_type": "code",
   "execution_count": 11,
   "metadata": {
    "colab": {
     "base_uri": "https://localhost:8080/",
     "height": 168
    },
    "colab_type": "code",
    "executionInfo": {
     "elapsed": 1294,
     "status": "ok",
     "timestamp": 1578644912773,
     "user": {
      "displayName": "Mukesh Rao",
      "photoUrl": "",
      "userId": "17153267786626763657"
     },
     "user_tz": -330
    },
    "id": "tIvE6O-wjlOe",
    "outputId": "748d295e-327a-426b-9b53-4d172b84e09c"
   },
   "outputs": [
    {
     "name": "stdout",
     "output_type": "stream",
     "text": [
      "rank of D : tf.Tensor(2, shape=(), dtype=int32)\n",
      "shape of D : (6, 2)\n",
      "content of D : tf.Tensor(\n",
      "[[505 505]\n",
      " [505 505]\n",
      " [505 505]\n",
      " [505 505]\n",
      " [505 505]\n",
      " [505 505]], shape=(6, 2), dtype=int32)\n"
     ]
    }
   ],
   "source": [
    "D = tf.constant(505, shape=[6,2])\n",
    "print(\"rank of D :\", tf.rank(D))\n",
    "print(\"shape of D :\" , D.shape)\n",
    "print(\"content of D :\",  D)"
   ]
  },
  {
   "cell_type": "markdown",
   "metadata": {
    "colab_type": "text",
    "id": "bh094NVtXckw"
   },
   "source": [
    "# Creating tensors from Existing Objects"
   ]
  },
  {
   "cell_type": "code",
   "execution_count": 12,
   "metadata": {
    "colab": {},
    "colab_type": "code",
    "id": "4fXNN8l5Xckz"
   },
   "outputs": [],
   "source": [
    "tf_t = tf.convert_to_tensor(5.0, dtype=tf.float64)   #converting a scalar value (5.0) into a tensor of rank 0 "
   ]
  },
  {
   "cell_type": "code",
   "execution_count": 13,
   "metadata": {
    "colab": {
     "base_uri": "https://localhost:8080/",
     "height": 84
    },
    "colab_type": "code",
    "executionInfo": {
     "elapsed": 1118,
     "status": "ok",
     "timestamp": 1578659886744,
     "user": {
      "displayName": "Mukesh Rao",
      "photoUrl": "",
      "userId": "17153267786626763657"
     },
     "user_tz": -330
    },
    "id": "fG4wXJl0Xck9",
    "outputId": "6cc3e42c-78cb-42e0-f78b-4375cb62c64e"
   },
   "outputs": [
    {
     "name": "stdout",
     "output_type": "stream",
     "text": [
      "tf.Tensor(0, shape=(), dtype=int32)\n",
      "tf.Tensor([], shape=(0,), dtype=int32)\n",
      "tf.Tensor(0, shape=(), dtype=int32)\n",
      "tf.Tensor([], shape=(0,), dtype=int32)\n"
     ]
    }
   ],
   "source": [
    "print(tf.rank(tf_t))\n",
    "print(tf.shape(tf_t))   # pl. note, the number after Rank_ and Shape_ are internal indices. \n",
    "\n",
    "print(tf.rank(tf_t))    #Note: if we do not use tfs.run(), the tf.rank will only describe the node\n",
    "print(tf.shape(tf_t) )  # pl. note, the number after Rank_ and Shape_ are internal indices. "
   ]
  },
  {
   "cell_type": "markdown",
   "metadata": {
    "colab_type": "text",
    "id": "A-0ZTLDHXclH"
   },
   "source": [
    "# Creating tensors from an array"
   ]
  },
  {
   "cell_type": "code",
   "execution_count": 14,
   "metadata": {
    "colab": {
     "base_uri": "https://localhost:8080/",
     "height": 420
    },
    "colab_type": "code",
    "executionInfo": {
     "elapsed": 1139,
     "status": "ok",
     "timestamp": 1578660147308,
     "user": {
      "displayName": "Mukesh Rao",
      "photoUrl": "",
      "userId": "17153267786626763657"
     },
     "user_tz": -330
    },
    "id": "zV7mgvMlXclK",
    "outputId": "23b2af8d-49fe-4173-d22e-870257146141"
   },
   "outputs": [
    {
     "name": "stdout",
     "output_type": "stream",
     "text": [
      "one_dim_array Shape :  ([13], [92], [38], [48], [52])\n",
      "\n",
      "\n",
      "tf.Tensor(\n",
      "[[13.]\n",
      " [92.]\n",
      " [38.]\n",
      " [48.]\n",
      " [52.]], shape=(5, 1), dtype=float64)\n",
      "rank of tf_t :  tf.Tensor(2, shape=(), dtype=int32)\n",
      "shape of tf_t:  tf.Tensor([5 1], shape=(2,), dtype=int32)\n",
      "\n",
      "\n",
      "tf_t[0] :  tf.Tensor([13.], shape=(1,), dtype=float64)\n",
      "tf_t[0] :  tf.Tensor([38.], shape=(1,), dtype=float64)\n",
      "\n",
      "\n",
      "run(tf_t) : \n",
      " tf.Tensor(\n",
      "[[13.]\n",
      " [92.]\n",
      " [38.]\n",
      " [48.]\n",
      " [52.]], shape=(5, 1), dtype=float64)\n"
     ]
    }
   ],
   "source": [
    "import numpy as np\n",
    "\n",
    "one_dim_array = ([13], [92], [38], [48], [52])\n",
    "print(\"one_dim_array Shape : \", one_dim_array)\n",
    "\n",
    "tf_t = tf.convert_to_tensor(one_dim_array, dtype=tf.float64)\n",
    "print('\\n')\n",
    "print(tf_t)\n",
    "print('rank of tf_t : ', tf.rank(tf_t))     #Note: if we do not use tfs.run(), the tf.rank will only describe the node\n",
    "print('shape of tf_t: ', tf.shape(tf_t))\n",
    "print('\\n')\n",
    "print('tf_t[0] : ', tf_t[0])\n",
    "print('tf_t[0] : ', tf_t[2])\n",
    "print('\\n')\n",
    "print('run(tf_t) : \\n', tf_t)"
   ]
  },
  {
   "cell_type": "markdown",
   "metadata": {
    "colab_type": "text",
    "id": "UNXNzvvWXclS"
   },
   "source": [
    "# Define tensorflow variables "
   ]
  },
  {
   "cell_type": "code",
   "execution_count": 15,
   "metadata": {
    "colab": {
     "base_uri": "https://localhost:8080/",
     "height": 84
    },
    "colab_type": "code",
    "executionInfo": {
     "elapsed": 1123,
     "status": "ok",
     "timestamp": 1578660249182,
     "user": {
      "displayName": "Mukesh Rao",
      "photoUrl": "",
      "userId": "17153267786626763657"
     },
     "user_tz": -330
    },
    "id": "h_cO39i0XclU",
    "outputId": "3ae393c9-6fcc-4a12-c6f4-e06d8a94a4f1"
   },
   "outputs": [
    {
     "name": "stdout",
     "output_type": "stream",
     "text": [
      "w: <tf.Variable 'Variable:0' shape=(1,) dtype=float32, numpy=array([0.23], dtype=float32)>\n",
      "x: <tf.Variable 'Variable:0' shape=(1,) dtype=float32, numpy=array([5.], dtype=float32)>\n",
      "b: <tf.Variable 'Variable:0' shape=(1,) dtype=float32, numpy=array([-0.43], dtype=float32)>\n",
      "y: tf.Tensor([0.71999997], shape=(1,), dtype=float32)\n"
     ]
    }
   ],
   "source": [
    "# Assume Linear Model y = w * x + b\n",
    "# Define model parameters\n",
    "w = tf.Variable([.23], tf.float32)\n",
    "b = tf.Variable([-.43], tf.float32)\n",
    "\n",
    "\n",
    "# Define model input and output\n",
    "x = tf.Variable([5.0],tf.float32)\n",
    "y = w * x + b\n",
    "\n",
    "print(\"w:\", w)\n",
    "print(\"x:\", x)\n",
    "print(\"b:\", b)\n",
    "print(\"y:\", y)\n",
    "\n"
   ]
  },
  {
   "cell_type": "markdown",
   "metadata": {
    "colab_type": "text",
    "id": "-cNDamWVXcl8"
   },
   "source": [
    "# Linear model in tensorflow"
   ]
  },
  {
   "cell_type": "code",
   "execution_count": 16,
   "metadata": {
    "colab": {
     "base_uri": "https://localhost:8080/",
     "height": 118
    },
    "colab_type": "code",
    "executionInfo": {
     "elapsed": 1271,
     "status": "ok",
     "timestamp": 1578664632041,
     "user": {
      "displayName": "Mukesh Rao",
      "photoUrl": "",
      "userId": "17153267786626763657"
     },
     "user_tz": -330
    },
    "id": "Y_coH6FOXcmA",
    "outputId": "f2f7b0b9-1a30-4f8a-b671-7cb187331932"
   },
   "outputs": [
    {
     "name": "stdout",
     "output_type": "stream",
     "text": [
      "Loss at step 000: 6.100\n",
      "Loss at step 020: 0.217\n",
      "Loss at step 040: 0.211\n",
      "Loss at step 060: 0.206\n",
      "Loss at step 080: 0.201\n",
      "W : 0.3344224691390991 , b  = 0.2118747979402542 \n"
     ]
    }
   ],
   "source": [
    "train_X = [3.3, 4.4, 5.5, 6.71, 6.93, 4.168, 9.779, 6.182, 7.59, 2.167,\n",
    "           7.042, 10.791, 5.313, 7.997, 5.654, 9.27, 3.1]\n",
    "train_Y = [1.7, 2.76, 2.09, 3.19, 1.694, 1.573, 3.366, 2.596, 2.53, 1.221,\n",
    "           2.827, 3.465, 1.65, 2.904, 2.42, 2.94, 1.3]\n",
    "NUM_EXAMPLES = len(train_X)\n",
    "\n",
    "\n",
    "#create model paramters with initial values \n",
    "W = tf.Variable(0.)\n",
    "b = tf.Variable(0.)\n",
    "\n",
    "#training info\n",
    "train_steps = 100\n",
    "learning_rate = 0.01\n",
    "\n",
    "for i in range(train_steps):\n",
    "  \n",
    "  #watch the gradient flow \n",
    "  with tf.GradientTape() as tape:\n",
    "    \n",
    "    #forward pass \n",
    "    yhat = train_X * W + b\n",
    "    \n",
    "    #calcuate the loss (difference squared error)\n",
    "    error = yhat - train_Y\n",
    "    loss = tf.reduce_mean(tf.square(error))\n",
    "  \n",
    "  #evalute the gradient with the respect to the paramters\n",
    "  dW, db = tape.gradient(loss, [W, b])\n",
    "\n",
    "  #update the paramters using Gradient Descent  \n",
    "  W.assign_sub(dW * learning_rate)\n",
    "  b.assign_sub(db* learning_rate)\n",
    "\n",
    "  #print the loss every 20 iterations \n",
    "  if i % 20 == 0:\n",
    "    print(\"Loss at step {:03d}: {:.3f}\".format(i, loss))\n",
    "      \n",
    "print(f'W : {W.numpy()} , b  = {b.numpy()} ')"
   ]
  },
  {
   "cell_type": "code",
   "execution_count": null,
   "metadata": {
    "colab": {
     "base_uri": "https://localhost:8080/",
     "height": 265
    },
    "colab_type": "code",
    "executionInfo": {
     "elapsed": 1225,
     "status": "ok",
     "timestamp": 1578664637140,
     "user": {
      "displayName": "Mukesh Rao",
      "photoUrl": "",
      "userId": "17153267786626763657"
     },
     "user_tz": -330
    },
    "id": "w5mQk92jugav",
    "outputId": "c1995d28-4702-4173-bf86-314226ce8839"
   },
   "outputs": [],
   "source": [
    "%matplotlib inline\n",
    "import matplotlib.pyplot as plt\n",
    "# Graphic display\n",
    "plt.plot(train_X, train_Y, 'ro', label='Original data')\n",
    "plt.plot(train_X, np.array(W * train_X + b), label='Fitted line')\n",
    "plt.legend()\n",
    "plt.show()"
   ]
  },
  {
   "cell_type": "code",
   "execution_count": null,
   "metadata": {
    "colab": {},
    "colab_type": "code",
    "id": "srBxvRxSrp09"
   },
   "outputs": [],
   "source": [
    "def linear_model(X_val):\n",
    "  print((W*X_val + b).numpy())"
   ]
  },
  {
   "cell_type": "code",
   "execution_count": null,
   "metadata": {
    "colab": {
     "base_uri": "https://localhost:8080/",
     "height": 34
    },
    "colab_type": "code",
    "executionInfo": {
     "elapsed": 1119,
     "status": "ok",
     "timestamp": 1578664696240,
     "user": {
      "displayName": "Mukesh Rao",
      "photoUrl": "",
      "userId": "17153267786626763657"
     },
     "user_tz": -330
    },
    "id": "UIEUTljxXcmP",
    "outputId": "f8a48827-ca73-41a5-d952-96bfe4130919"
   },
   "outputs": [],
   "source": [
    "linear_model(8)"
   ]
  },
  {
   "cell_type": "code",
   "execution_count": null,
   "metadata": {},
   "outputs": [],
   "source": []
  },
  {
   "cell_type": "code",
   "execution_count": null,
   "metadata": {},
   "outputs": [],
   "source": []
  }
 ],
 "metadata": {
  "colab": {
   "name": "Tensorflow_Introduction.ipynb",
   "provenance": []
  },
  "kernelspec": {
   "display_name": "Python 3 (ipykernel)",
   "language": "python",
   "name": "python3"
  },
  "language_info": {
   "codemirror_mode": {
    "name": "ipython",
    "version": 3
   },
   "file_extension": ".py",
   "mimetype": "text/x-python",
   "name": "python",
   "nbconvert_exporter": "python",
   "pygments_lexer": "ipython3",
   "version": "3.9.13"
  }
 },
 "nbformat": 4,
 "nbformat_minor": 1
}
